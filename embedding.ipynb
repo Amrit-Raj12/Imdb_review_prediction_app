{
  "cells": [
    {
      "cell_type": "code",
      "execution_count": 1,
      "metadata": {
        "id": "dY-Lt5wHz4PD"
      },
      "outputs": [],
      "source": [
        "from tensorflow.keras.preprocessing.text import one_hot"
      ]
    },
    {
      "cell_type": "code",
      "execution_count": 2,
      "metadata": {
        "id": "UKVrHiMP0IDW"
      },
      "outputs": [],
      "source": [
        "## sentances\n",
        "sent = [\"the cat sat on the mat\",\n",
        "         \"the dog sat on the log\",\n",
        "         \"cats and dogs are great pets\",\n",
        "         \"I love my cat\",\n",
        "         \"I love my dog\",\n",
        "         \"cats and dogs are the best pets\",]"
      ]
    },
    {
      "cell_type": "code",
      "execution_count": 3,
      "metadata": {
        "colab": {
          "base_uri": "https://localhost:8080/"
        },
        "id": "MsgiCwTT0MeF",
        "outputId": "77e6b133-4e85-4f02-f5ec-f0ad3c256c1f"
      },
      "outputs": [
        {
          "data": {
            "text/plain": [
              "['the cat sat on the mat',\n",
              " 'the dog sat on the log',\n",
              " 'cats and dogs are great pets',\n",
              " 'I love my cat',\n",
              " 'I love my dog',\n",
              " 'cats and dogs are the best pets']"
            ]
          },
          "execution_count": 3,
          "metadata": {},
          "output_type": "execute_result"
        }
      ],
      "source": [
        "sent"
      ]
    },
    {
      "cell_type": "code",
      "execution_count": 6,
      "metadata": {
        "id": "BwPvw8rl0PAI"
      },
      "outputs": [],
      "source": [
        "#Define vocabulary size\n",
        "vocab_size = 10000"
      ]
    },
    {
      "cell_type": "code",
      "execution_count": 7,
      "metadata": {
        "colab": {
          "base_uri": "https://localhost:8080/"
        },
        "id": "7FeJAec80TL3",
        "outputId": "48224d70-4df9-4fe9-9cc3-fc1a26626c2b"
      },
      "outputs": [
        {
          "data": {
            "text/plain": [
              "[[1697, 7142, 6066, 128, 1697, 4225],\n",
              " [1697, 1540, 6066, 128, 1697, 3765],\n",
              " [4501, 4656, 6764, 2186, 2305, 1714],\n",
              " [32, 1922, 9886, 7142],\n",
              " [32, 1922, 9886, 1540],\n",
              " [4501, 4656, 6764, 2186, 1697, 7872, 1714]]"
            ]
          },
          "execution_count": 7,
          "metadata": {},
          "output_type": "execute_result"
        }
      ],
      "source": [
        "## one hot representation\n",
        "one_hot_repr = [one_hot(words, vocab_size) for words in sent]\n",
        "one_hot_repr"
      ]
    },
    {
      "cell_type": "code",
      "execution_count": 8,
      "metadata": {
        "id": "gTAuwC3v17Z6"
      },
      "outputs": [],
      "source": [
        "## word Embadcing Represnatation\n",
        "\n",
        "from tensorflow.keras.layers import Embedding\n",
        "# from tensorflow.keras.preprocessing.sequence import pad_sequences\n",
        "from tensorflow.keras.utils import pad_sequences\n",
        "from tensorflow.keras.models import Sequential"
      ]
    },
    {
      "cell_type": "code",
      "execution_count": 9,
      "metadata": {
        "id": "W4oad2W13C4G"
      },
      "outputs": [],
      "source": [
        "import numpy as np"
      ]
    },
    {
      "cell_type": "code",
      "execution_count": 13,
      "metadata": {
        "colab": {
          "base_uri": "https://localhost:8080/"
        },
        "id": "v9j7xGEe3G9s",
        "outputId": "c16241c4-2640-4443-9f47-3ded35a05284"
      },
      "outputs": [
        {
          "name": "stdout",
          "output_type": "stream",
          "text": [
            "[[   0    0 1697 7142 6066  128 1697 4225]\n",
            " [   0    0 1697 1540 6066  128 1697 3765]\n",
            " [   0    0 4501 4656 6764 2186 2305 1714]\n",
            " [   0    0    0    0   32 1922 9886 7142]\n",
            " [   0    0    0    0   32 1922 9886 1540]\n",
            " [   0 4501 4656 6764 2186 1697 7872 1714]]\n"
          ]
        }
      ],
      "source": [
        "sent_length = 8\n",
        "embedded_docs = pad_sequences(one_hot_repr, padding=\"pre\", maxlen=sent_length)\n",
        "print(embedded_docs)"
      ]
    },
    {
      "cell_type": "code",
      "execution_count": 14,
      "metadata": {
        "id": "dVi3NDLd3X-L"
      },
      "outputs": [],
      "source": [
        "## Feature Represntaion\n",
        "dim = 10"
      ]
    },
    {
      "cell_type": "code",
      "execution_count": 20,
      "metadata": {
        "id": "N5stmbXi4WdC"
      },
      "outputs": [],
      "source": [
        "model = Sequential()\n",
        "model.add(Embedding(vocab_size, dim, input_shape=(sent_length,)))\n",
        "model.compile(optimizer=\"adam\", loss=\"mse\")"
      ]
    },
    {
      "cell_type": "code",
      "execution_count": 21,
      "metadata": {
        "colab": {
          "base_uri": "https://localhost:8080/",
          "height": 170
        },
        "id": "qDFpL5sz5FL8",
        "outputId": "05dbcb5c-c0ad-418c-c8ad-61667c4c66ba"
      },
      "outputs": [
        {
          "data": {
            "text/html": [
              "<pre style=\"white-space:pre;overflow-x:auto;line-height:normal;font-family:Menlo,'DejaVu Sans Mono',consolas,'Courier New',monospace\"><span style=\"font-weight: bold\">Model: \"sequential_5\"</span>\n",
              "</pre>\n"
            ],
            "text/plain": [
              "\u001b[1mModel: \"sequential_5\"\u001b[0m\n"
            ]
          },
          "metadata": {},
          "output_type": "display_data"
        },
        {
          "data": {
            "text/html": [
              "<pre style=\"white-space:pre;overflow-x:auto;line-height:normal;font-family:Menlo,'DejaVu Sans Mono',consolas,'Courier New',monospace\">┏━━━━━━━━━━━━━━━━━━━━━━━━━━━━━━━━━┳━━━━━━━━━━━━━━━━━━━━━━━━┳━━━━━━━━━━━━━━━┓\n",
              "┃<span style=\"font-weight: bold\"> Layer (type)                    </span>┃<span style=\"font-weight: bold\"> Output Shape           </span>┃<span style=\"font-weight: bold\">       Param # </span>┃\n",
              "┡━━━━━━━━━━━━━━━━━━━━━━━━━━━━━━━━━╇━━━━━━━━━━━━━━━━━━━━━━━━╇━━━━━━━━━━━━━━━┩\n",
              "│ embedding_4 (<span style=\"color: #0087ff; text-decoration-color: #0087ff\">Embedding</span>)         │ (<span style=\"color: #00d7ff; text-decoration-color: #00d7ff\">None</span>, <span style=\"color: #00af00; text-decoration-color: #00af00\">8</span>, <span style=\"color: #00af00; text-decoration-color: #00af00\">10</span>)          │       <span style=\"color: #00af00; text-decoration-color: #00af00\">100,000</span> │\n",
              "└─────────────────────────────────┴────────────────────────┴───────────────┘\n",
              "</pre>\n"
            ],
            "text/plain": [
              "┏━━━━━━━━━━━━━━━━━━━━━━━━━━━━━━━━━┳━━━━━━━━━━━━━━━━━━━━━━━━┳━━━━━━━━━━━━━━━┓\n",
              "┃\u001b[1m \u001b[0m\u001b[1mLayer (type)                   \u001b[0m\u001b[1m \u001b[0m┃\u001b[1m \u001b[0m\u001b[1mOutput Shape          \u001b[0m\u001b[1m \u001b[0m┃\u001b[1m \u001b[0m\u001b[1m      Param #\u001b[0m\u001b[1m \u001b[0m┃\n",
              "┡━━━━━━━━━━━━━━━━━━━━━━━━━━━━━━━━━╇━━━━━━━━━━━━━━━━━━━━━━━━╇━━━━━━━━━━━━━━━┩\n",
              "│ embedding_4 (\u001b[38;5;33mEmbedding\u001b[0m)         │ (\u001b[38;5;45mNone\u001b[0m, \u001b[38;5;34m8\u001b[0m, \u001b[38;5;34m10\u001b[0m)          │       \u001b[38;5;34m100,000\u001b[0m │\n",
              "└─────────────────────────────────┴────────────────────────┴───────────────┘\n"
            ]
          },
          "metadata": {},
          "output_type": "display_data"
        },
        {
          "data": {
            "text/html": [
              "<pre style=\"white-space:pre;overflow-x:auto;line-height:normal;font-family:Menlo,'DejaVu Sans Mono',consolas,'Courier New',monospace\"><span style=\"font-weight: bold\"> Total params: </span><span style=\"color: #00af00; text-decoration-color: #00af00\">100,000</span> (390.62 KB)\n",
              "</pre>\n"
            ],
            "text/plain": [
              "\u001b[1m Total params: \u001b[0m\u001b[38;5;34m100,000\u001b[0m (390.62 KB)\n"
            ]
          },
          "metadata": {},
          "output_type": "display_data"
        },
        {
          "data": {
            "text/html": [
              "<pre style=\"white-space:pre;overflow-x:auto;line-height:normal;font-family:Menlo,'DejaVu Sans Mono',consolas,'Courier New',monospace\"><span style=\"font-weight: bold\"> Trainable params: </span><span style=\"color: #00af00; text-decoration-color: #00af00\">100,000</span> (390.62 KB)\n",
              "</pre>\n"
            ],
            "text/plain": [
              "\u001b[1m Trainable params: \u001b[0m\u001b[38;5;34m100,000\u001b[0m (390.62 KB)\n"
            ]
          },
          "metadata": {},
          "output_type": "display_data"
        },
        {
          "data": {
            "text/html": [
              "<pre style=\"white-space:pre;overflow-x:auto;line-height:normal;font-family:Menlo,'DejaVu Sans Mono',consolas,'Courier New',monospace\"><span style=\"font-weight: bold\"> Non-trainable params: </span><span style=\"color: #00af00; text-decoration-color: #00af00\">0</span> (0.00 B)\n",
              "</pre>\n"
            ],
            "text/plain": [
              "\u001b[1m Non-trainable params: \u001b[0m\u001b[38;5;34m0\u001b[0m (0.00 B)\n"
            ]
          },
          "metadata": {},
          "output_type": "display_data"
        }
      ],
      "source": [
        "model.summary()"
      ]
    },
    {
      "cell_type": "code",
      "execution_count": 26,
      "metadata": {
        "colab": {
          "base_uri": "https://localhost:8080/"
        },
        "id": "XHy94X_-5wxS",
        "outputId": "0d082fcc-ee60-42ce-ac18-c84376cb028b"
      },
      "outputs": [
        {
          "name": "stdout",
          "output_type": "stream",
          "text": [
            "\u001b[1m1/1\u001b[0m \u001b[32m━━━━━━━━━━━━━━━━━━━━\u001b[0m\u001b[37m\u001b[0m \u001b[1m0s\u001b[0m 41ms/step\n"
          ]
        },
        {
          "data": {
            "text/plain": [
              "array([[[-0.01073324, -0.04783459, -0.03560752,  0.02639255,\n",
              "         -0.01954817, -0.01143584,  0.04726419, -0.04742506,\n",
              "          0.04597875, -0.02745392],\n",
              "        [-0.01073324, -0.04783459, -0.03560752,  0.02639255,\n",
              "         -0.01954817, -0.01143584,  0.04726419, -0.04742506,\n",
              "          0.04597875, -0.02745392],\n",
              "        [-0.01964992,  0.0304512 ,  0.04842969, -0.04890409,\n",
              "          0.00631591,  0.04318238,  0.00033943,  0.0088455 ,\n",
              "         -0.00588667,  0.00897245],\n",
              "        [-0.01743443, -0.01784604, -0.01488717, -0.00483542,\n",
              "         -0.03143872, -0.0495958 ,  0.00481248,  0.04954543,\n",
              "         -0.04042538,  0.02066708],\n",
              "        [-0.00018289,  0.0459533 ,  0.02846077, -0.02846644,\n",
              "         -0.00211246,  0.00034355,  0.00407432, -0.04678982,\n",
              "          0.04082761,  0.01500226],\n",
              "        [-0.03050724,  0.02843778, -0.01293999,  0.04133471,\n",
              "          0.04067734,  0.04959072, -0.02742609, -0.02486088,\n",
              "         -0.01117657, -0.01386296],\n",
              "        [-0.01964992,  0.0304512 ,  0.04842969, -0.04890409,\n",
              "          0.00631591,  0.04318238,  0.00033943,  0.0088455 ,\n",
              "         -0.00588667,  0.00897245],\n",
              "        [-0.01818057, -0.04122865,  0.02123204, -0.00768917,\n",
              "         -0.03498399,  0.00462879,  0.00839437,  0.00987737,\n",
              "         -0.02829504,  0.0199173 ]],\n",
              "\n",
              "       [[-0.01073324, -0.04783459, -0.03560752,  0.02639255,\n",
              "         -0.01954817, -0.01143584,  0.04726419, -0.04742506,\n",
              "          0.04597875, -0.02745392],\n",
              "        [-0.01073324, -0.04783459, -0.03560752,  0.02639255,\n",
              "         -0.01954817, -0.01143584,  0.04726419, -0.04742506,\n",
              "          0.04597875, -0.02745392],\n",
              "        [-0.01964992,  0.0304512 ,  0.04842969, -0.04890409,\n",
              "          0.00631591,  0.04318238,  0.00033943,  0.0088455 ,\n",
              "         -0.00588667,  0.00897245],\n",
              "        [-0.0096192 ,  0.0366911 , -0.04079826, -0.03114072,\n",
              "          0.01845774,  0.00233178,  0.02135916, -0.02765945,\n",
              "         -0.00936322, -0.0134856 ],\n",
              "        [-0.00018289,  0.0459533 ,  0.02846077, -0.02846644,\n",
              "         -0.00211246,  0.00034355,  0.00407432, -0.04678982,\n",
              "          0.04082761,  0.01500226],\n",
              "        [-0.03050724,  0.02843778, -0.01293999,  0.04133471,\n",
              "          0.04067734,  0.04959072, -0.02742609, -0.02486088,\n",
              "         -0.01117657, -0.01386296],\n",
              "        [-0.01964992,  0.0304512 ,  0.04842969, -0.04890409,\n",
              "          0.00631591,  0.04318238,  0.00033943,  0.0088455 ,\n",
              "         -0.00588667,  0.00897245],\n",
              "        [-0.04852551,  0.00183095, -0.03315024, -0.04668741,\n",
              "          0.0444397 ,  0.01939351, -0.00932746,  0.03455548,\n",
              "          0.01046572,  0.04013136]],\n",
              "\n",
              "       [[-0.01073324, -0.04783459, -0.03560752,  0.02639255,\n",
              "         -0.01954817, -0.01143584,  0.04726419, -0.04742506,\n",
              "          0.04597875, -0.02745392],\n",
              "        [-0.01073324, -0.04783459, -0.03560752,  0.02639255,\n",
              "         -0.01954817, -0.01143584,  0.04726419, -0.04742506,\n",
              "          0.04597875, -0.02745392],\n",
              "        [-0.00987075, -0.00309234, -0.01975236,  0.00803115,\n",
              "         -0.02588668, -0.02451559, -0.0430357 ,  0.0261271 ,\n",
              "         -0.01156835,  0.0262971 ],\n",
              "        [-0.04582499,  0.04433293,  0.0316944 , -0.02604439,\n",
              "         -0.00406356,  0.04526382,  0.00075592,  0.01417783,\n",
              "         -0.01268159, -0.0311987 ],\n",
              "        [ 0.00866575, -0.0408011 ,  0.04330108, -0.03165144,\n",
              "          0.02714102,  0.03776382, -0.01584746,  0.02990327,\n",
              "         -0.03127778, -0.02062674],\n",
              "        [-0.00839501,  0.04545758,  0.03896308,  0.0283692 ,\n",
              "          0.01309282, -0.00142268,  0.03610018, -0.03953749,\n",
              "          0.0033619 ,  0.03386089],\n",
              "        [-0.03832768, -0.02781323, -0.01463288, -0.03640408,\n",
              "         -0.0134501 ,  0.03050846,  0.02598014, -0.01384379,\n",
              "         -0.0205152 , -0.02819636],\n",
              "        [-0.01982494,  0.01749978,  0.01774236, -0.03870938,\n",
              "         -0.02129086, -0.04694832,  0.03430193, -0.00146415,\n",
              "         -0.02785585,  0.00236504]],\n",
              "\n",
              "       [[-0.01073324, -0.04783459, -0.03560752,  0.02639255,\n",
              "         -0.01954817, -0.01143584,  0.04726419, -0.04742506,\n",
              "          0.04597875, -0.02745392],\n",
              "        [-0.01073324, -0.04783459, -0.03560752,  0.02639255,\n",
              "         -0.01954817, -0.01143584,  0.04726419, -0.04742506,\n",
              "          0.04597875, -0.02745392],\n",
              "        [-0.01073324, -0.04783459, -0.03560752,  0.02639255,\n",
              "         -0.01954817, -0.01143584,  0.04726419, -0.04742506,\n",
              "          0.04597875, -0.02745392],\n",
              "        [-0.01073324, -0.04783459, -0.03560752,  0.02639255,\n",
              "         -0.01954817, -0.01143584,  0.04726419, -0.04742506,\n",
              "          0.04597875, -0.02745392],\n",
              "        [-0.00942164, -0.00151526,  0.02603993,  0.00626253,\n",
              "         -0.04309538, -0.028011  , -0.03354476,  0.0493191 ,\n",
              "          0.00377429,  0.00861352],\n",
              "        [-0.01903535,  0.04794855, -0.02698259, -0.00386317,\n",
              "         -0.03255467, -0.03994001,  0.02480989,  0.03094152,\n",
              "         -0.01892526,  0.00900458],\n",
              "        [ 0.01754879,  0.02184567,  0.00584279,  0.04901577,\n",
              "          0.00494   ,  0.04536374,  0.04149297,  0.04773602,\n",
              "         -0.04655318, -0.02199506],\n",
              "        [-0.01743443, -0.01784604, -0.01488717, -0.00483542,\n",
              "         -0.03143872, -0.0495958 ,  0.00481248,  0.04954543,\n",
              "         -0.04042538,  0.02066708]],\n",
              "\n",
              "       [[-0.01073324, -0.04783459, -0.03560752,  0.02639255,\n",
              "         -0.01954817, -0.01143584,  0.04726419, -0.04742506,\n",
              "          0.04597875, -0.02745392],\n",
              "        [-0.01073324, -0.04783459, -0.03560752,  0.02639255,\n",
              "         -0.01954817, -0.01143584,  0.04726419, -0.04742506,\n",
              "          0.04597875, -0.02745392],\n",
              "        [-0.01073324, -0.04783459, -0.03560752,  0.02639255,\n",
              "         -0.01954817, -0.01143584,  0.04726419, -0.04742506,\n",
              "          0.04597875, -0.02745392],\n",
              "        [-0.01073324, -0.04783459, -0.03560752,  0.02639255,\n",
              "         -0.01954817, -0.01143584,  0.04726419, -0.04742506,\n",
              "          0.04597875, -0.02745392],\n",
              "        [-0.00942164, -0.00151526,  0.02603993,  0.00626253,\n",
              "         -0.04309538, -0.028011  , -0.03354476,  0.0493191 ,\n",
              "          0.00377429,  0.00861352],\n",
              "        [-0.01903535,  0.04794855, -0.02698259, -0.00386317,\n",
              "         -0.03255467, -0.03994001,  0.02480989,  0.03094152,\n",
              "         -0.01892526,  0.00900458],\n",
              "        [ 0.01754879,  0.02184567,  0.00584279,  0.04901577,\n",
              "          0.00494   ,  0.04536374,  0.04149297,  0.04773602,\n",
              "         -0.04655318, -0.02199506],\n",
              "        [-0.0096192 ,  0.0366911 , -0.04079826, -0.03114072,\n",
              "          0.01845774,  0.00233178,  0.02135916, -0.02765945,\n",
              "         -0.00936322, -0.0134856 ]],\n",
              "\n",
              "       [[-0.01073324, -0.04783459, -0.03560752,  0.02639255,\n",
              "         -0.01954817, -0.01143584,  0.04726419, -0.04742506,\n",
              "          0.04597875, -0.02745392],\n",
              "        [-0.00987075, -0.00309234, -0.01975236,  0.00803115,\n",
              "         -0.02588668, -0.02451559, -0.0430357 ,  0.0261271 ,\n",
              "         -0.01156835,  0.0262971 ],\n",
              "        [-0.04582499,  0.04433293,  0.0316944 , -0.02604439,\n",
              "         -0.00406356,  0.04526382,  0.00075592,  0.01417783,\n",
              "         -0.01268159, -0.0311987 ],\n",
              "        [ 0.00866575, -0.0408011 ,  0.04330108, -0.03165144,\n",
              "          0.02714102,  0.03776382, -0.01584746,  0.02990327,\n",
              "         -0.03127778, -0.02062674],\n",
              "        [-0.00839501,  0.04545758,  0.03896308,  0.0283692 ,\n",
              "          0.01309282, -0.00142268,  0.03610018, -0.03953749,\n",
              "          0.0033619 ,  0.03386089],\n",
              "        [-0.01964992,  0.0304512 ,  0.04842969, -0.04890409,\n",
              "          0.00631591,  0.04318238,  0.00033943,  0.0088455 ,\n",
              "         -0.00588667,  0.00897245],\n",
              "        [ 0.03824501, -0.03871787, -0.01159431, -0.00798527,\n",
              "          0.02303878,  0.00809135, -0.04311648,  0.03045036,\n",
              "         -0.04101033,  0.01547886],\n",
              "        [-0.01982494,  0.01749978,  0.01774236, -0.03870938,\n",
              "         -0.02129086, -0.04694832,  0.03430193, -0.00146415,\n",
              "         -0.02785585,  0.00236504]]], dtype=float32)"
            ]
          },
          "execution_count": 26,
          "metadata": {},
          "output_type": "execute_result"
        }
      ],
      "source": [
        "model.predict(embedded_docs)"
      ]
    },
    {
      "cell_type": "code",
      "execution_count": null,
      "metadata": {
        "id": "ADy5t1UJ6Va1"
      },
      "outputs": [],
      "source": []
    }
  ],
  "metadata": {
    "colab": {
      "provenance": []
    },
    "kernelspec": {
      "display_name": "Python 3",
      "name": "python3"
    },
    "language_info": {
      "name": "python",
      "version": "3.12.0"
    }
  },
  "nbformat": 4,
  "nbformat_minor": 0
}
